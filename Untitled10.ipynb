{
  "nbformat": 4,
  "nbformat_minor": 0,
  "metadata": {
    "colab": {
      "provenance": [],
      "authorship_tag": "ABX9TyPLuLZl2RBXNQCZ54rFyVvQ",
      "include_colab_link": true
    },
    "kernelspec": {
      "name": "python3",
      "display_name": "Python 3"
    },
    "language_info": {
      "name": "python"
    }
  },
  "cells": [
    {
      "cell_type": "markdown",
      "metadata": {
        "id": "view-in-github",
        "colab_type": "text"
      },
      "source": [
        "<a href=\"https://colab.research.google.com/github/vaishali-98/Apparel-Sentiment-Analysis-of-Women-s-clothing/blob/main/Untitled10.ipynb\" target=\"_parent\"><img src=\"https://colab.research.google.com/assets/colab-badge.svg\" alt=\"Open In Colab\"/></a>"
      ]
    },
    {
      "cell_type": "code",
      "execution_count": 1,
      "metadata": {
        "colab": {
          "base_uri": "https://localhost:8080/",
          "height": 373
        },
        "id": "HQbqKA_0O-rO",
        "outputId": "b109272d-2757-4c31-83e0-1d75d0952dcd"
      },
      "outputs": [
        {
          "output_type": "error",
          "ename": "ModuleNotFoundError",
          "evalue": "ignored",
          "traceback": [
            "\u001b[0;31m---------------------------------------------------------------------------\u001b[0m",
            "\u001b[0;31mModuleNotFoundError\u001b[0m                       Traceback (most recent call last)",
            "\u001b[0;32m<ipython-input-1-831254596ebe>\u001b[0m in \u001b[0;36m<module>\u001b[0;34m\u001b[0m\n\u001b[1;32m      2\u001b[0m \u001b[0;32mimport\u001b[0m \u001b[0mnumpy\u001b[0m \u001b[0;32mas\u001b[0m \u001b[0mnp\u001b[0m\u001b[0;34m\u001b[0m\u001b[0;34m\u001b[0m\u001b[0m\n\u001b[1;32m      3\u001b[0m \u001b[0;32mimport\u001b[0m \u001b[0mmatplotlib\u001b[0m\u001b[0;34m.\u001b[0m\u001b[0mpyplot\u001b[0m \u001b[0;32mas\u001b[0m \u001b[0mplt\u001b[0m\u001b[0;34m\u001b[0m\u001b[0;34m\u001b[0m\u001b[0m\n\u001b[0;32m----> 4\u001b[0;31m \u001b[0;32mimport\u001b[0m \u001b[0mboto3\u001b[0m\u001b[0;34m\u001b[0m\u001b[0;34m\u001b[0m\u001b[0m\n\u001b[0m\u001b[1;32m      5\u001b[0m \u001b[0;32mfrom\u001b[0m \u001b[0mstatsmodels\u001b[0m\u001b[0;34m.\u001b[0m\u001b[0mtsa\u001b[0m\u001b[0;34m.\u001b[0m\u001b[0marima\u001b[0m\u001b[0;34m.\u001b[0m\u001b[0mmodel\u001b[0m \u001b[0;32mimport\u001b[0m \u001b[0mARIMA\u001b[0m\u001b[0;34m\u001b[0m\u001b[0;34m\u001b[0m\u001b[0m\n\u001b[1;32m      6\u001b[0m \u001b[0;32mfrom\u001b[0m \u001b[0mtensorflow\u001b[0m\u001b[0;34m.\u001b[0m\u001b[0mkeras\u001b[0m\u001b[0;34m.\u001b[0m\u001b[0mmodels\u001b[0m \u001b[0;32mimport\u001b[0m \u001b[0mSequential\u001b[0m\u001b[0;34m\u001b[0m\u001b[0;34m\u001b[0m\u001b[0m\n",
            "\u001b[0;31mModuleNotFoundError\u001b[0m: No module named 'boto3'",
            "",
            "\u001b[0;31m---------------------------------------------------------------------------\u001b[0;32m\nNOTE: If your import is failing due to a missing package, you can\nmanually install dependencies using either !pip or !apt.\n\nTo view examples of installing some common dependencies, click the\n\"Open Examples\" button below.\n\u001b[0;31m---------------------------------------------------------------------------\u001b[0m\n"
          ],
          "errorDetails": {
            "actions": [
              {
                "action": "open_url",
                "actionText": "Open Examples",
                "url": "/notebooks/snippets/importing_libraries.ipynb"
              }
            ]
          }
        }
      ],
      "source": [
        "import pandas as pd\n",
        "import numpy as np\n",
        "import matplotlib.pyplot as plt\n",
        "import boto3\n",
        "from statsmodels.tsa.arima.model import ARIMA\n",
        "from tensorflow.keras.models import Sequential\n",
        "from tensorflow.keras.layers import LSTM, Dense\n",
        "\n",
        "# Load data from AWS S3\n",
        "s3 = boto3.resource('s3')\n",
        "bucket = s3.Bucket('my-bucket')\n",
        "df = pd.read_csv('s3://my-bucket/social_media_engagement.csv')\n",
        "\n",
        "# Split data into train and test sets\n",
        "train_size = int(len(df) * 0.8)\n",
        "train_data, test_data = df[:train_size], df[train_size:]\n",
        "\n",
        "# Create input features\n",
        "X_train = train_data[['sentiment_score', 'weather']]\n",
        "y_train = train_data[['engagement']]\n",
        "\n",
        "X_test = test_data[['sentiment_score', 'weather']]\n",
        "y_test = test_data[['engagement']]\n",
        "\n",
        "# Train ARIMA model\n",
        "arima_model = ARIMA(y_train, order=(1, 1, 1))\n",
        "arima_model_fit = arima_model.fit()\n",
        "\n",
        "# Train LSTM model\n",
        "lstm_model = Sequential()\n",
        "lstm_model.add(LSTM(50, input_shape=(X_train.shape[1], 1)))\n",
        "lstm_model.add(Dense(1))\n",
        "lstm_model.compile(loss='mse', optimizer='adam')\n",
        "lstm_model.fit(X_train.values.reshape((X_train.shape[0], X_train.shape[1], 1)), y_train, epochs=100, batch_size=32)\n",
        "\n",
        "# Evaluate models\n",
        "arima_predictions = arima_model_fit.forecast(steps=len(y_test))\n",
        "lstm_predictions = lstm_model.predict(X_test.values.reshape((X_test.shape[0], X_test.shape[1], 1)))\n",
        "\n",
        "# Visualize results using AWS QuickSight\n",
        "results_df = pd.DataFrame({'date': test_data['date'], 'actual': y_test['engagement'], 'ARIMA': arima_predictions[0], 'LSTM': lstm_predictions.flatten()})\n",
        "results_df.to_csv('s3://my-bucket/social_media_engagement_predictions.csv')\n"
      ]
    }
  ]
}